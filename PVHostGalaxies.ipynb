{
 "cells": [
  {
   "cell_type": "markdown",
   "metadata": {},
   "source": [
    "# SNe in host galaxies\n",
    "Owner: Alex Kim <br>\n",
    "Last Verified to Run: 2018-07-23"
   ]
  },
  {
   "cell_type": "code",
   "execution_count": 1,
   "metadata": {},
   "outputs": [],
   "source": [
    "import numpy\n",
    "import matplotlib.pyplot as plt\n",
    "%matplotlib inline"
   ]
  },
  {
   "cell_type": "code",
   "execution_count": 2,
   "metadata": {},
   "outputs": [],
   "source": [
    "from astropy.coordinates import SkyCoord\n",
    "import GCRCatalogs\n",
    "import buzzard_stellar_mass\n",
    "import itertools"
   ]
  },
  {
   "cell_type": "code",
   "execution_count": 3,
   "metadata": {},
   "outputs": [],
   "source": [
    "controlTime = 1e-9"
   ]
  },
  {
   "cell_type": "code",
   "execution_count": 4,
   "metadata": {},
   "outputs": [],
   "source": [
    "# load coadd catalog (for a single tract)\n",
    "coadd_cat = GCRCatalogs.load_catalog('buzzard_v1.6_test')"
   ]
  },
  {
   "cell_type": "code",
   "execution_count": 5,
   "metadata": {},
   "outputs": [],
   "source": [
    "kfile = \"/global/projecta/projectdirs/lsst/groups/CS/Buzzard/metadata/templates/k_nmf_derived.default.fits\"\n",
    "\n",
    "gdq = buzzard_stellar_mass.GetDerivedQuantities(kfile)\n",
    "\n",
    "\n",
    "coadd_cat.add_derived_quantity(\n",
    "    \"sfr\",\n",
    "    lambda z, *coeffs: gdq.sfr(numpy.vstack(coeffs).T, z),\n",
    "    \"redshift\",\n",
    "    \"truth/COEFFS/0\",\n",
    "    \"truth/COEFFS/1\",\n",
    "    \"truth/COEFFS/2\",\n",
    "    \"truth/COEFFS/3\",\n",
    "    \"truth/COEFFS/4\"\n",
    ")\n",
    "\n",
    "coadd_cat.add_derived_quantity(\n",
    "    \"smass\",\n",
    "    lambda z, *coeffs: gdq.smass(numpy.vstack(coeffs).T, z),\n",
    "    \"redshift\",\n",
    "    \"truth/COEFFS/0\",\n",
    "    \"truth/COEFFS/1\",\n",
    "    \"truth/COEFFS/2\",\n",
    "    \"truth/COEFFS/3\",\n",
    "    \"truth/COEFFS/4\"\n",
    ")\n",
    "\n",
    "coadd_cat.add_derived_quantity(\n",
    "    \"snrate_obs\",\n",
    "    lambda sfr, smass, z: 1.23e-03*sfr**(.95)+.26e-10*smass**(.72)/(1+z),\n",
    "    \"sfr\",\n",
    "    \"smass\",\n",
    "    \"redshift_true\"\n",
    ")\n",
    "\n",
    "def gen_poisson(x, seed=123):\n",
    "    mask = numpy.isfinite(x)\n",
    "    out = numpy.random.RandomState(seed).poisson(numpy.where(mask, x, 0))\n",
    "    out[~mask] = numpy.iinfo(numpy.int).max\n",
    "    return out\n",
    "\n",
    "coadd_cat.add_derived_quantity( \"numSN\", gen_poisson, \"snrate_obs\" )"
   ]
  },
  {
   "cell_type": "code",
   "execution_count": 6,
   "metadata": {},
   "outputs": [],
   "source": [
    "quantities = [\"numSN\",\"redshift\", \"redshift_true\",\"ra\",\"dec\",\"galaxy_id\"]\n",
    "filts = [\n",
    "    'redshift < 0.01',\n",
    "    (numpy.isfinite,\"truth/COEFFS/0\"),\n",
    "    (numpy.isfinite,\"truth/COEFFS/1\"),\n",
    "    (numpy.isfinite,\"truth/COEFFS/2\"),\n",
    "    (numpy.isfinite,\"truth/COEFFS/3\"),\n",
    "    (numpy.isfinite,\"truth/COEFFS/4\"),\n",
    "    'numSN > 0'\n",
    "    ]"
   ]
  },
  {
   "cell_type": "code",
   "execution_count": 7,
   "metadata": {},
   "outputs": [
    {
     "name": "stdout",
     "output_type": "stream",
     "text": [
      "(0,)\n"
     ]
    }
   ],
   "source": [
    "for data in coadd_cat.get_quantities(quantities, filters = filts, return_iterator=True):\n",
    "    print(data['numSN'])"
   ]
  },
  {
   "cell_type": "raw",
   "metadata": {},
   "source": []
  }
 ],
 "metadata": {
  "kernelspec": {
   "display_name": "desc-python",
   "language": "python",
   "name": "desc-python"
  },
  "language_info": {
   "codemirror_mode": {
    "name": "ipython",
    "version": 3
   },
   "file_extension": ".py",
   "mimetype": "text/x-python",
   "name": "python",
   "nbconvert_exporter": "python",
   "pygments_lexer": "ipython3",
   "version": "3.6.2"
  }
 },
 "nbformat": 4,
 "nbformat_minor": 2
}

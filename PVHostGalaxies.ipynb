{
 "cells": [
  {
   "cell_type": "markdown",
   "metadata": {},
   "source": [
    "# SNe in host galaxies\n",
    "Owner: Alex Kim <br>\n",
    "Last Verified to Run: 2018-07-23"
   ]
  },
  {
   "cell_type": "code",
   "execution_count": 1,
   "metadata": {},
   "outputs": [],
   "source": [
    "import numpy\n",
    "import matplotlib.pyplot as plt\n",
    "%matplotlib inline"
   ]
  },
  {
   "cell_type": "code",
   "execution_count": 2,
   "metadata": {},
   "outputs": [],
   "source": [
    "from astropy.coordinates import SkyCoord\n",
    "import GCRCatalogs\n",
    "import buzzard_stellar_mass\n",
    "import itertools"
   ]
  },
  {
   "cell_type": "code",
   "execution_count": 3,
   "metadata": {},
   "outputs": [],
   "source": [
    "controlTime = 1e-9"
   ]
  },
  {
   "cell_type": "code",
   "execution_count": 4,
   "metadata": {},
   "outputs": [],
   "source": [
    "# load coadd catalog (for a single tract)\n",
    "coadd_cat = GCRCatalogs.load_catalog('buzzard_v1.6_test')"
   ]
  },
  {
   "cell_type": "code",
   "execution_count": 5,
   "metadata": {},
   "outputs": [],
   "source": [
    "kfile = \"/global/projecta/projectdirs/lsst/groups/CS/Buzzard/metadata/templates/k_nmf_derived.default.fits\"\n",
    "\n",
    "gdq = buzzard_stellar_mass.GetDerivedQuantities(kfile)\n",
    "\n",
    "\n",
    "coadd_cat.add_derived_quantity(\n",
    "    \"sfr\",\n",
    "    lambda z, *coeffs: gdq.sfr(numpy.vstack(coeffs).T, z),\n",
    "    \"redshift\",\n",
    "    \"truth/COEFFS/0\",\n",
    "    \"truth/COEFFS/1\",\n",
    "    \"truth/COEFFS/2\",\n",
    "    \"truth/COEFFS/3\",\n",
    "    \"truth/COEFFS/4\"\n",
    ")\n",
    "\n",
    "coadd_cat.add_derived_quantity(\n",
    "    \"met\",\n",
    "    lambda z, *coeffs: gdq.met(numpy.vstack(coeffs).T, z),\n",
    "    \"redshift\",\n",
    "    \"truth/COEFFS/0\",\n",
    "    \"truth/COEFFS/1\",\n",
    "    \"truth/COEFFS/2\",\n",
    "    \"truth/COEFFS/3\",\n",
    "    \"truth/COEFFS/4\"\n",
    ")\n",
    "\n",
    "coadd_cat.add_derived_quantity(\n",
    "    \"smass\",\n",
    "    lambda z, *coeffs: gdq.smass(numpy.vstack(coeffs).T, z),\n",
    "    \"redshift\",\n",
    "    \"truth/COEFFS/0\",\n",
    "    \"truth/COEFFS/1\",\n",
    "    \"truth/COEFFS/2\",\n",
    "    \"truth/COEFFS/3\",\n",
    "    \"truth/COEFFS/4\"\n",
    ")\n",
    "coadd_cat.add_derived_quantity(\n",
    "    # a dummy sn rate for now\n",
    "    \"snrate\",\n",
    "    lambda sfr, smass: 0.1*sfr+0.3*smass,\n",
    "    \"sfr\",\n",
    "    \"smass\"\n",
    ")\n",
    "\n",
    "numpy.random.seed(1234)\n",
    "coadd_cat.add_derived_quantity(\n",
    "    \"numSN\",\n",
    "    lambda z,snrate: numpy.random.poisson(controlTime*snrate/(1+z)),\n",
    "    \"redshift_true\",\n",
    "    \"snrate\"\n",
    ")"
   ]
  },
  {
   "cell_type": "code",
   "execution_count": 6,
   "metadata": {},
   "outputs": [],
   "source": [
    "quantities = [\"numSN\",\"redshift\", \"redshift_true\",\"ra\",\"dec\",\"galaxy_id\"]\n",
    "filts = [\n",
    "    'redshift < 0.05',\n",
    "    (numpy.isfinite,\"truth/COEFFS/0\"),\n",
    "    (numpy.isfinite,\"truth/COEFFS/1\"),\n",
    "    (numpy.isfinite,\"truth/COEFFS/2\"),\n",
    "    (numpy.isfinite,\"truth/COEFFS/3\"),\n",
    "    (numpy.isfinite,\"truth/COEFFS/4\"),\n",
    "    'numSN > 0'\n",
    "    ]"
   ]
  },
  {
   "cell_type": "code",
   "execution_count": null,
   "metadata": {},
   "outputs": [],
   "source": [
    "for data in coadd_cat.get_quantities(quantities, filters = filts, return_iterator=True):\n",
    "    print(data['numSN'].shape)"
   ]
  },
  {
   "cell_type": "raw",
   "metadata": {},
   "source": []
  }
 ],
 "metadata": {
  "kernelspec": {
   "display_name": "desc-python",
   "language": "python",
   "name": "desc-python"
  },
  "language_info": {
   "codemirror_mode": {
    "name": "ipython",
    "version": 3
   },
   "file_extension": ".py",
   "mimetype": "text/x-python",
   "name": "python",
   "nbconvert_exporter": "python",
   "pygments_lexer": "ipython3",
   "version": "3.6.2"
  }
 },
 "nbformat": 4,
 "nbformat_minor": 2
}

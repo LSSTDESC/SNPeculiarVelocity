{
 "cells": [
  {
   "cell_type": "markdown",
   "metadata": {},
   "source": [
    "# SNe in host galaxies\n",
    "Owner: Alex Kim <br>\n",
    "Last Verified to Run: 2018-07-23"
   ]
  },
  {
   "cell_type": "code",
   "execution_count": 1,
   "metadata": {},
   "outputs": [],
   "source": [
    "import numpy\n",
    "import matplotlib.pyplot as plt\n",
    "%matplotlib inline"
   ]
  },
  {
   "cell_type": "code",
   "execution_count": 2,
   "metadata": {},
   "outputs": [],
   "source": [
    "from astropy.coordinates import SkyCoord\n",
    "import GCRCatalogs\n",
    "import buzzard_stellar_mass\n",
    "import itertools"
   ]
  },
  {
   "cell_type": "code",
   "execution_count": 3,
   "metadata": {},
   "outputs": [],
   "source": [
    "# load coadd catalog (for a single tract)\n",
    "coadd_cat = GCRCatalogs.load_catalog('buzzard_v1.6_test')"
   ]
  },
  {
   "cell_type": "code",
   "execution_count": 4,
   "metadata": {},
   "outputs": [],
   "source": [
    "kfile = \"/global/projecta/projectdirs/lsst/groups/CS/Buzzard/metadata/templates/k_nmf_derived.default.fits\"\n",
    "\n",
    "gdq = buzzard_stellar_mass.GetDerivedQuantities(kfile)\n",
    "\n",
    "\n",
    "coadd_cat.add_derived_quantity(\n",
    "    \"sfr\",\n",
    "    lambda z, *coeffs: gdq.sfr(numpy.vstack(coeffs).T, z),\n",
    "    \"redshift\",\n",
    "    \"truth/COEFFS/0\",\n",
    "    \"truth/COEFFS/1\",\n",
    "    \"truth/COEFFS/2\",\n",
    "    \"truth/COEFFS/3\",\n",
    "    \"truth/COEFFS/4\"\n",
    ")\n",
    "\n",
    "coadd_cat.add_derived_quantity(\n",
    "    \"met\",\n",
    "    lambda z, *coeffs: gdq.met(numpy.vstack(coeffs).T, z),\n",
    "    \"redshift\",\n",
    "    \"truth/COEFFS/0\",\n",
    "    \"truth/COEFFS/1\",\n",
    "    \"truth/COEFFS/2\",\n",
    "    \"truth/COEFFS/3\",\n",
    "    \"truth/COEFFS/4\"\n",
    ")\n",
    "\n",
    "coadd_cat.add_derived_quantity(\n",
    "    \"smass\",\n",
    "    lambda z, *coeffs: gdq.smass(numpy.vstack(coeffs).T, z),\n",
    "    \"redshift\",\n",
    "    \"truth/COEFFS/0\",\n",
    "    \"truth/COEFFS/1\",\n",
    "    \"truth/COEFFS/2\",\n",
    "    \"truth/COEFFS/3\",\n",
    "    \"truth/COEFFS/4\"\n",
    ")\n",
    "coadd_cat.add_derived_quantity(\n",
    "    # a dummy sn rate for now\n",
    "    \"snrate\",\n",
    "    lambda sfr, smass: 0.1*sfr+0.3*smass,\n",
    "    \"sfr\",\n",
    "    \"smass\"\n",
    ")\n",
    "\n",
    "numpy.random.seed(1234)\n",
    "coadd_cat.add_derived_quantity(\n",
    "    # a dummy sn rate for now\n",
    "    \"numSN\",\n",
    "    lambda z,snrate: numpy.random.poisson(1e-7*snrate/(1+z)),\n",
    "    \"redshift_true\",\n",
    "    \"snrate\"\n",
    ")"
   ]
  },
  {
   "cell_type": "code",
   "execution_count": 6,
   "metadata": {},
   "outputs": [],
   "source": [
    "quantities = [\"numSN\",\"redshift\", \"redshift_true\",\"ra\",\"dec\",\"galaxy_id\"]\n",
    "filts = [\n",
    "    'redshift < 0.05',\n",
    "    (numpy.isfinite,\"truth/COEFFS/0\"),\n",
    "    (numpy.isfinite,\"truth/COEFFS/1\"),\n",
    "    (numpy.isfinite,\"truth/COEFFS/2\"),\n",
    "    (numpy.isfinite,\"truth/COEFFS/3\"),\n",
    "    (numpy.isfinite,\"truth/COEFFS/4\"),\n",
    "    'numSN > 0'\n",
    "    ]"
   ]
  },
  {
   "cell_type": "code",
   "execution_count": 7,
   "metadata": {},
   "outputs": [
    {
     "ename": "ValueError",
     "evalue": "lam value too large.",
     "output_type": "error",
     "traceback": [
      "\u001b[0;31m---------------------------------------------------------------------------\u001b[0m",
      "\u001b[0;31mValueError\u001b[0m                                Traceback (most recent call last)",
      "\u001b[0;32m<ipython-input-7-728ea51427ca>\u001b[0m in \u001b[0;36m<module>\u001b[0;34m()\u001b[0m\n\u001b[0;32m----> 1\u001b[0;31m \u001b[0;32mfor\u001b[0m \u001b[0mdata\u001b[0m \u001b[0;32min\u001b[0m \u001b[0mcoadd_cat\u001b[0m\u001b[0;34m.\u001b[0m\u001b[0mget_quantities\u001b[0m\u001b[0;34m(\u001b[0m\u001b[0mquantities\u001b[0m\u001b[0;34m,\u001b[0m \u001b[0mfilters\u001b[0m \u001b[0;34m=\u001b[0m \u001b[0mfilts\u001b[0m\u001b[0;34m,\u001b[0m \u001b[0mreturn_iterator\u001b[0m\u001b[0;34m=\u001b[0m\u001b[0;32mTrue\u001b[0m\u001b[0;34m)\u001b[0m\u001b[0;34m:\u001b[0m\u001b[0;34m\u001b[0m\u001b[0m\n\u001b[0m\u001b[1;32m      2\u001b[0m     \u001b[0mprint\u001b[0m\u001b[0;34m(\u001b[0m\u001b[0mdata\u001b[0m\u001b[0;34m[\u001b[0m\u001b[0;34m'numSN'\u001b[0m\u001b[0;34m]\u001b[0m\u001b[0;34m)\u001b[0m\u001b[0;34m\u001b[0m\u001b[0m\n",
      "\u001b[0;32m/global/common/software/lsst/common/miniconda/current/lib/python3.6/site-packages/GCR.py\u001b[0m in \u001b[0;36m_get_quantities_iter\u001b[0;34m(self, quantities, filters, native_filters)\u001b[0m\n\u001b[1;32m    530\u001b[0m         \u001b[0;32mfor\u001b[0m \u001b[0mnative_quantity_getter\u001b[0m \u001b[0;32min\u001b[0m \u001b[0mself\u001b[0m\u001b[0;34m.\u001b[0m\u001b[0m_iter_native_dataset\u001b[0m\u001b[0;34m(\u001b[0m\u001b[0mnative_filters\u001b[0m\u001b[0;34m)\u001b[0m\u001b[0;34m:\u001b[0m\u001b[0;34m\u001b[0m\u001b[0m\n\u001b[1;32m    531\u001b[0m             data = self._load_quantities(quantities.union(set(filters.variable_names)),\n\u001b[0;32m--> 532\u001b[0;31m                                          native_quantity_getter)\n\u001b[0m\u001b[1;32m    533\u001b[0m             \u001b[0mdata\u001b[0m \u001b[0;34m=\u001b[0m \u001b[0mfilters\u001b[0m\u001b[0;34m.\u001b[0m\u001b[0mfilter\u001b[0m\u001b[0;34m(\u001b[0m\u001b[0mdata\u001b[0m\u001b[0;34m)\u001b[0m\u001b[0;34m\u001b[0m\u001b[0m\n\u001b[1;32m    534\u001b[0m             \u001b[0;32mfor\u001b[0m \u001b[0mq\u001b[0m \u001b[0;32min\u001b[0m \u001b[0mset\u001b[0m\u001b[0;34m(\u001b[0m\u001b[0mdata\u001b[0m\u001b[0;34m)\u001b[0m\u001b[0;34m.\u001b[0m\u001b[0mdifference\u001b[0m\u001b[0;34m(\u001b[0m\u001b[0mquantities\u001b[0m\u001b[0;34m)\u001b[0m\u001b[0;34m:\u001b[0m\u001b[0;34m\u001b[0m\u001b[0m\n",
      "\u001b[0;32m/global/common/software/lsst/common/miniconda/current/lib/python3.6/site-packages/GCR.py\u001b[0m in \u001b[0;36m_load_quantities\u001b[0;34m(self, quantities, native_quantity_getter)\u001b[0m\n\u001b[1;32m    524\u001b[0m         \u001b[0mnative_quantities_needed\u001b[0m \u001b[0;34m=\u001b[0m \u001b[0mself\u001b[0m\u001b[0;34m.\u001b[0m\u001b[0m_translate_quantities\u001b[0m\u001b[0;34m(\u001b[0m\u001b[0mquantities\u001b[0m\u001b[0;34m)\u001b[0m\u001b[0;34m\u001b[0m\u001b[0m\n\u001b[1;32m    525\u001b[0m         \u001b[0mnative_data\u001b[0m \u001b[0;34m=\u001b[0m \u001b[0mself\u001b[0m\u001b[0;34m.\u001b[0m\u001b[0m_obtain_native_data_dict\u001b[0m\u001b[0;34m(\u001b[0m\u001b[0mnative_quantities_needed\u001b[0m\u001b[0;34m,\u001b[0m \u001b[0mnative_quantity_getter\u001b[0m\u001b[0;34m)\u001b[0m\u001b[0;34m\u001b[0m\u001b[0m\n\u001b[0;32m--> 526\u001b[0;31m         \u001b[0;32mreturn\u001b[0m \u001b[0;34m{\u001b[0m\u001b[0mq\u001b[0m\u001b[0;34m:\u001b[0m \u001b[0mself\u001b[0m\u001b[0;34m.\u001b[0m\u001b[0m_assemble_quantity\u001b[0m\u001b[0;34m(\u001b[0m\u001b[0mq\u001b[0m\u001b[0;34m,\u001b[0m \u001b[0mnative_data\u001b[0m\u001b[0;34m)\u001b[0m \u001b[0;32mfor\u001b[0m \u001b[0mq\u001b[0m \u001b[0;32min\u001b[0m \u001b[0mquantities\u001b[0m\u001b[0;34m}\u001b[0m\u001b[0;34m\u001b[0m\u001b[0m\n\u001b[0m\u001b[1;32m    527\u001b[0m \u001b[0;34m\u001b[0m\u001b[0m\n\u001b[1;32m    528\u001b[0m \u001b[0;34m\u001b[0m\u001b[0m\n",
      "\u001b[0;32m/global/common/software/lsst/common/miniconda/current/lib/python3.6/site-packages/GCR.py\u001b[0m in \u001b[0;36m<dictcomp>\u001b[0;34m(.0)\u001b[0m\n\u001b[1;32m    524\u001b[0m         \u001b[0mnative_quantities_needed\u001b[0m \u001b[0;34m=\u001b[0m \u001b[0mself\u001b[0m\u001b[0;34m.\u001b[0m\u001b[0m_translate_quantities\u001b[0m\u001b[0;34m(\u001b[0m\u001b[0mquantities\u001b[0m\u001b[0;34m)\u001b[0m\u001b[0;34m\u001b[0m\u001b[0m\n\u001b[1;32m    525\u001b[0m         \u001b[0mnative_data\u001b[0m \u001b[0;34m=\u001b[0m \u001b[0mself\u001b[0m\u001b[0;34m.\u001b[0m\u001b[0m_obtain_native_data_dict\u001b[0m\u001b[0;34m(\u001b[0m\u001b[0mnative_quantities_needed\u001b[0m\u001b[0;34m,\u001b[0m \u001b[0mnative_quantity_getter\u001b[0m\u001b[0;34m)\u001b[0m\u001b[0;34m\u001b[0m\u001b[0m\n\u001b[0;32m--> 526\u001b[0;31m         \u001b[0;32mreturn\u001b[0m \u001b[0;34m{\u001b[0m\u001b[0mq\u001b[0m\u001b[0;34m:\u001b[0m \u001b[0mself\u001b[0m\u001b[0;34m.\u001b[0m\u001b[0m_assemble_quantity\u001b[0m\u001b[0;34m(\u001b[0m\u001b[0mq\u001b[0m\u001b[0;34m,\u001b[0m \u001b[0mnative_data\u001b[0m\u001b[0;34m)\u001b[0m \u001b[0;32mfor\u001b[0m \u001b[0mq\u001b[0m \u001b[0;32min\u001b[0m \u001b[0mquantities\u001b[0m\u001b[0;34m}\u001b[0m\u001b[0;34m\u001b[0m\u001b[0m\n\u001b[0m\u001b[1;32m    527\u001b[0m \u001b[0;34m\u001b[0m\u001b[0m\n\u001b[1;32m    528\u001b[0m \u001b[0;34m\u001b[0m\u001b[0m\n",
      "\u001b[0;32m/global/common/software/lsst/common/miniconda/current/lib/python3.6/site-packages/GCR.py\u001b[0m in \u001b[0;36m_assemble_quantity\u001b[0;34m(self, quantity_requested, native_quantities_loaded)\u001b[0m\n\u001b[1;32m    503\u001b[0m \u001b[0;34m\u001b[0m\u001b[0m\n\u001b[1;32m    504\u001b[0m         \u001b[0;32melif\u001b[0m \u001b[0misinstance\u001b[0m\u001b[0;34m(\u001b[0m\u001b[0mmodifier\u001b[0m\u001b[0;34m,\u001b[0m \u001b[0;34m(\u001b[0m\u001b[0mtuple\u001b[0m\u001b[0;34m,\u001b[0m \u001b[0mlist\u001b[0m\u001b[0;34m)\u001b[0m\u001b[0;34m)\u001b[0m \u001b[0;32mand\u001b[0m \u001b[0mlen\u001b[0m\u001b[0;34m(\u001b[0m\u001b[0mmodifier\u001b[0m\u001b[0;34m)\u001b[0m \u001b[0;34m>\u001b[0m \u001b[0;36m1\u001b[0m \u001b[0;32mand\u001b[0m \u001b[0mcallable\u001b[0m\u001b[0;34m(\u001b[0m\u001b[0mmodifier\u001b[0m\u001b[0;34m[\u001b[0m\u001b[0;36m0\u001b[0m\u001b[0;34m]\u001b[0m\u001b[0;34m)\u001b[0m\u001b[0;34m:\u001b[0m\u001b[0;34m\u001b[0m\u001b[0m\n\u001b[0;32m--> 505\u001b[0;31m             \u001b[0;32mreturn\u001b[0m \u001b[0mmodifier\u001b[0m\u001b[0;34m[\u001b[0m\u001b[0;36m0\u001b[0m\u001b[0;34m]\u001b[0m\u001b[0;34m(\u001b[0m\u001b[0;34m*\u001b[0m\u001b[0;34m(\u001b[0m\u001b[0mnative_quantities_loaded\u001b[0m\u001b[0;34m[\u001b[0m\u001b[0m_\u001b[0m\u001b[0;34m]\u001b[0m \u001b[0;32mfor\u001b[0m \u001b[0m_\u001b[0m \u001b[0;32min\u001b[0m \u001b[0mmodifier\u001b[0m\u001b[0;34m[\u001b[0m\u001b[0;36m1\u001b[0m\u001b[0;34m:\u001b[0m\u001b[0;34m]\u001b[0m\u001b[0;34m)\u001b[0m\u001b[0;34m)\u001b[0m\u001b[0;34m\u001b[0m\u001b[0m\n\u001b[0m\u001b[1;32m    506\u001b[0m \u001b[0;34m\u001b[0m\u001b[0m\n\u001b[1;32m    507\u001b[0m         \u001b[0;32mreturn\u001b[0m \u001b[0mnative_quantities_loaded\u001b[0m\u001b[0;34m[\u001b[0m\u001b[0mmodifier\u001b[0m\u001b[0;34m]\u001b[0m\u001b[0;34m\u001b[0m\u001b[0m\n",
      "\u001b[0;32m/global/common/software/lsst/common/miniconda/current/lib/python3.6/site-packages/GCR.py\u001b[0m in \u001b[0;36m_new_func\u001b[0;34m(*x)\u001b[0m\n\u001b[1;32m    362\u001b[0m                     \u001b[0mnew_args\u001b[0m\u001b[0;34m.\u001b[0m\u001b[0mappend\u001b[0m\u001b[0;34m(\u001b[0m\u001b[0mfunc_this\u001b[0m\u001b[0;34m(\u001b[0m\u001b[0;34m*\u001b[0m\u001b[0mx\u001b[0m\u001b[0;34m[\u001b[0m\u001b[0mcount_current\u001b[0m\u001b[0;34m:\u001b[0m\u001b[0mcount_current\u001b[0m\u001b[0;34m+\u001b[0m\u001b[0mcount\u001b[0m\u001b[0;34m]\u001b[0m\u001b[0;34m)\u001b[0m\u001b[0;34m)\u001b[0m\u001b[0;34m\u001b[0m\u001b[0m\n\u001b[1;32m    363\u001b[0m                     \u001b[0mcount_current\u001b[0m \u001b[0;34m+=\u001b[0m \u001b[0mcount\u001b[0m\u001b[0;34m\u001b[0m\u001b[0m\n\u001b[0;32m--> 364\u001b[0;31m                 \u001b[0;32mreturn\u001b[0m \u001b[0mfunc\u001b[0m\u001b[0;34m(\u001b[0m\u001b[0;34m*\u001b[0m\u001b[0mnew_args\u001b[0m\u001b[0;34m)\u001b[0m\u001b[0;34m\u001b[0m\u001b[0m\n\u001b[0m\u001b[1;32m    365\u001b[0m \u001b[0;34m\u001b[0m\u001b[0m\n\u001b[1;32m    366\u001b[0m             \u001b[0mnew_modifier\u001b[0m \u001b[0;34m=\u001b[0m \u001b[0;34m(\u001b[0m\u001b[0m_new_func\u001b[0m\u001b[0;34m,\u001b[0m\u001b[0;34m)\u001b[0m \u001b[0;34m+\u001b[0m \u001b[0mtuple\u001b[0m\u001b[0;34m(\u001b[0m\u001b[0mquantities_needed\u001b[0m\u001b[0;34m)\u001b[0m\u001b[0;34m\u001b[0m\u001b[0m\n",
      "\u001b[0;32m<ipython-input-4-597a40bdd64f>\u001b[0m in \u001b[0;36m<lambda>\u001b[0;34m(z, snrate)\u001b[0m\n\u001b[1;32m     48\u001b[0m     \u001b[0;31m# a dummy sn rate for now\u001b[0m\u001b[0;34m\u001b[0m\u001b[0;34m\u001b[0m\u001b[0m\n\u001b[1;32m     49\u001b[0m     \u001b[0;34m\"numSN\"\u001b[0m\u001b[0;34m,\u001b[0m\u001b[0;34m\u001b[0m\u001b[0m\n\u001b[0;32m---> 50\u001b[0;31m     \u001b[0;32mlambda\u001b[0m \u001b[0mz\u001b[0m\u001b[0;34m,\u001b[0m\u001b[0msnrate\u001b[0m\u001b[0;34m:\u001b[0m \u001b[0mnumpy\u001b[0m\u001b[0;34m.\u001b[0m\u001b[0mrandom\u001b[0m\u001b[0;34m.\u001b[0m\u001b[0mpoisson\u001b[0m\u001b[0;34m(\u001b[0m\u001b[0;36m1e-7\u001b[0m\u001b[0;34m*\u001b[0m\u001b[0msnrate\u001b[0m\u001b[0;34m/\u001b[0m\u001b[0;34m(\u001b[0m\u001b[0;36m1\u001b[0m\u001b[0;34m+\u001b[0m\u001b[0mz\u001b[0m\u001b[0;34m)\u001b[0m\u001b[0;34m)\u001b[0m\u001b[0;34m,\u001b[0m\u001b[0;34m\u001b[0m\u001b[0m\n\u001b[0m\u001b[1;32m     51\u001b[0m     \u001b[0;34m\"redshift_true\"\u001b[0m\u001b[0;34m,\u001b[0m\u001b[0;34m\u001b[0m\u001b[0m\n\u001b[1;32m     52\u001b[0m     \u001b[0;34m\"snrate\"\u001b[0m\u001b[0;34m\u001b[0m\u001b[0m\n",
      "\u001b[0;32mmtrand.pyx\u001b[0m in \u001b[0;36mmtrand.RandomState.poisson (numpy/random/mtrand/mtrand.c:33787)\u001b[0;34m()\u001b[0m\n",
      "\u001b[0;31mValueError\u001b[0m: lam value too large."
     ]
    }
   ],
   "source": [
    "for data in coadd_cat.get_quantities(quantities, filters = filts, return_iterator=True):\n",
    "    print(data['numSN'])"
   ]
  },
  {
   "cell_type": "raw",
   "metadata": {},
   "source": []
  }
 ],
 "metadata": {
  "kernelspec": {
   "display_name": "desc-python",
   "language": "python",
   "name": "desc-python"
  },
  "language_info": {
   "codemirror_mode": {
    "name": "ipython",
    "version": 3
   },
   "file_extension": ".py",
   "mimetype": "text/x-python",
   "name": "python",
   "nbconvert_exporter": "python",
   "pygments_lexer": "ipython3",
   "version": "3.6.2"
  }
 },
 "nbformat": 4,
 "nbformat_minor": 2
}

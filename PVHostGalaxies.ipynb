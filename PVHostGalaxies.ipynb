{
 "cells": [
  {
   "cell_type": "markdown",
   "metadata": {},
   "source": [
    "# SNe in host galaxies\n",
    "Owner: Alex Kim <br>\n",
    "Last Verified to Run: 2018-07-23"
   ]
  },
  {
   "cell_type": "code",
   "execution_count": 1,
   "metadata": {},
   "outputs": [],
   "source": [
    "import numpy\n",
    "import matplotlib.pyplot as plt\n",
    "%matplotlib inline"
   ]
  },
  {
   "cell_type": "code",
   "execution_count": 2,
   "metadata": {},
   "outputs": [],
   "source": [
    "from astropy.coordinates import SkyCoord\n",
    "import GCRCatalogs\n",
    "import buzzard_stellar_mass\n",
    "import itertools\n",
    "from astropy.cosmology import FlatLambdaCDM\n",
    "from astropy.coordinates import SkyCoord\n",
    "from astropy import units as u"
   ]
  },
  {
   "cell_type": "code",
   "execution_count": 3,
   "metadata": {},
   "outputs": [],
   "source": [
    "seed=1234\n",
    "controlTime = 1.e1"
   ]
  },
  {
   "cell_type": "code",
   "execution_count": 4,
   "metadata": {},
   "outputs": [],
   "source": [
    "MB = -19.25\n",
    "sigma_MB = 0.08\n",
    "cosmo = FlatLambdaCDM(70, 0.286)"
   ]
  },
  {
   "cell_type": "code",
   "execution_count": 5,
   "metadata": {},
   "outputs": [],
   "source": [
    "# load coadd catalog (for a single tract)\n",
    "coadd_cat = GCRCatalogs.load_catalog('buzzard_v1.6_test')"
   ]
  },
  {
   "cell_type": "code",
   "execution_count": 6,
   "metadata": {},
   "outputs": [],
   "source": [
    "quantities = [\"redshift\", \"redshift_true\",\"ra\",\"dec\",\"galaxy_id\",\n",
    "              \"truth/COEFFS/0\",\"truth/COEFFS/1\",\"truth/COEFFS/2\",\"truth/COEFFS/3\",\"truth/COEFFS/4\"]\n",
    "filts = [\n",
    "    'redshift < 0.2',\n",
    "    (numpy.isfinite,\"truth/COEFFS/0\"),\n",
    "    (numpy.isfinite,\"truth/COEFFS/1\"),\n",
    "    (numpy.isfinite,\"truth/COEFFS/2\"),\n",
    "    (numpy.isfinite,\"truth/COEFFS/3\"),\n",
    "    (numpy.isfinite,\"truth/COEFFS/4\"),\n",
    "    ]"
   ]
  },
  {
   "cell_type": "code",
   "execution_count": 7,
   "metadata": {},
   "outputs": [],
   "source": [
    "kfile = \"/global/projecta/projectdirs/lsst/groups/CS/Buzzard/metadata/templates/k_nmf_derived.default.fits\"\n",
    "gdq = buzzard_stellar_mass.GetDerivedQuantities(kfile)"
   ]
  },
  {
   "cell_type": "code",
   "execution_count": 8,
   "metadata": {},
   "outputs": [],
   "source": [
    "out = None"
   ]
  },
  {
   "cell_type": "code",
   "execution_count": 9,
   "metadata": {},
   "outputs": [],
   "source": [
    "numpy.random.seed(seed)"
   ]
  },
  {
   "cell_type": "code",
   "execution_count": 10,
   "metadata": {},
   "outputs": [
    {
     "name": "stderr",
     "output_type": "stream",
     "text": [
      "/global/u1/a/akim/desc/Peculiar Velocity/buzzard_stellar_mass.py:76: RuntimeWarning: invalid value encountered in true_divide\n",
      "  met   = np.dot(coeff, self.sfh_tot * self.sfh_met) / ssfr\n"
     ]
    },
    {
     "ename": "AttributeError",
     "evalue": "'numpy.float32' object has no attribute 'value'",
     "output_type": "error",
     "traceback": [
      "\u001b[0;31m---------------------------------------------------------------------------\u001b[0m",
      "\u001b[0;31mAttributeError\u001b[0m                            Traceback (most recent call last)",
      "\u001b[0;32m<ipython-input-10-6894c7603482>\u001b[0m in \u001b[0;36m<module>\u001b[0;34m()\u001b[0m\n\u001b[1;32m     12\u001b[0m     \u001b[0mdata\u001b[0m\u001b[0;34m[\u001b[0m\u001b[0;34m'mB'\u001b[0m\u001b[0;34m]\u001b[0m  \u001b[0;34m=\u001b[0m \u001b[0;34m[\u001b[0m\u001b[0;34m]\u001b[0m\u001b[0;34m\u001b[0m\u001b[0m\n\u001b[1;32m     13\u001b[0m     \u001b[0;32mfor\u001b[0m \u001b[0mnsn\u001b[0m\u001b[0;34m,\u001b[0m \u001b[0mredtrue\u001b[0m \u001b[0;32min\u001b[0m \u001b[0mzip\u001b[0m\u001b[0;34m(\u001b[0m\u001b[0mdata\u001b[0m\u001b[0;34m[\u001b[0m\u001b[0;34m'nsne'\u001b[0m\u001b[0;34m]\u001b[0m\u001b[0;34m,\u001b[0m \u001b[0mdata\u001b[0m\u001b[0;34m[\u001b[0m\u001b[0;34m\"redshift_true\"\u001b[0m\u001b[0;34m]\u001b[0m\u001b[0;34m)\u001b[0m\u001b[0;34m:\u001b[0m\u001b[0;34m\u001b[0m\u001b[0m\n\u001b[0;32m---> 14\u001b[0;31m         \u001b[0mdata\u001b[0m\u001b[0;34m[\u001b[0m\u001b[0;34m'mB'\u001b[0m\u001b[0;34m]\u001b[0m\u001b[0;34m.\u001b[0m\u001b[0mappend\u001b[0m\u001b[0;34m(\u001b[0m\u001b[0mMB\u001b[0m \u001b[0;34m+\u001b[0m \u001b[0mnumpy\u001b[0m\u001b[0;34m.\u001b[0m\u001b[0mrandom\u001b[0m\u001b[0;34m.\u001b[0m\u001b[0mnormal\u001b[0m\u001b[0;34m(\u001b[0m\u001b[0mscale\u001b[0m\u001b[0;34m=\u001b[0m\u001b[0msigma_MB\u001b[0m\u001b[0;34m,\u001b[0m\u001b[0msize\u001b[0m\u001b[0;34m=\u001b[0m\u001b[0mnsn\u001b[0m\u001b[0;34m)\u001b[0m\u001b[0;34m+\u001b[0m\u001b[0mcosmo\u001b[0m\u001b[0;34m.\u001b[0m\u001b[0mdistmod\u001b[0m\u001b[0;34m(\u001b[0m\u001b[0mredtrue\u001b[0m\u001b[0;34m.\u001b[0m\u001b[0mvalue\u001b[0m\u001b[0;34m)\u001b[0m\u001b[0;34m)\u001b[0m\u001b[0;34m\u001b[0m\u001b[0m\n\u001b[0m\u001b[1;32m     15\u001b[0m \u001b[0;31m#    data['mB'] = MB + numpy.random.normal(scale=sigma_MB,size=len(data[\"redshift_true\"])) + \\\u001b[0m\u001b[0;34m\u001b[0m\u001b[0;34m\u001b[0m\u001b[0m\n\u001b[1;32m     16\u001b[0m \u001b[0;31m#        cosmo.distmod(data[\"redshift_true\"]).value\u001b[0m\u001b[0;34m\u001b[0m\u001b[0;34m\u001b[0m\u001b[0m\n",
      "\u001b[0;31mAttributeError\u001b[0m: 'numpy.float32' object has no attribute 'value'"
     ]
    }
   ],
   "source": [
    "for data in coadd_cat.get_quantities(quantities, filters = filts, return_iterator=True):\n",
    "    sfr_met_smass=gdq.get_derived_quantities(numpy.array([data[\"truth/COEFFS/0\"],data[\"truth/COEFFS/1\"],\n",
    "                                              data[\"truth/COEFFS/2\"],data[\"truth/COEFFS/3\"],\n",
    "                                              data[\"truth/COEFFS/4\"]]).T,data[\"redshift_true\"])\n",
    "    rate = controlTime*(1.23e-03*sfr_met_smass[0]**(.95)+.26e-10*sfr_met_smass[2]**(.72)/(1+data[\"redshift_true\"]))\n",
    "    nsne = numpy.random.poisson(rate)\n",
    "    w = nsne > 0\n",
    "    for key, value in data.items():\n",
    "        data[key]=value[w]\n",
    "    data['nsne'] = nsne[w]\n",
    "    data['nsne'][1]=2\n",
    "    data['mB']  = []\n",
    "    for nsn, redtrue in zip(data['nsne'], data[\"redshift_true\"]):\n",
    "        data['mB'].append(MB + numpy.random.normal(scale=sigma_MB,size=nsn)+cosmo.distmod(redtrue).value)\n",
    "#    data['mB'] = MB + numpy.random.normal(scale=sigma_MB,size=len(data[\"redshift_true\"])) + \\\n",
    "#        cosmo.distmod(data[\"redshift_true\"]).value  \n",
    "    data['mB_expected'] = MB + cosmo.distmod(data[\"redshift\"]).value\n",
    "    c = SkyCoord(ra=data[\"ra\"]*u.degree, dec=data[\"dec\"]*u.degree, frame='icrs')\n",
    "    data['l'] = c.galactic.spherical.lon.value\n",
    "    data['b'] = c.galactic.spherical.lat.value\n",
    "    \n",
    "    print (data['mB'][0])\n",
    "    print (data['mB'][1])\n",
    "    \n",
    "    if out is None:\n",
    "        out = data\n",
    "    else:\n",
    "        for key, value in data.items():\n",
    "            out[key] = numpy.append(out[key],value)               \n"
   ]
  },
  {
   "cell_type": "code",
   "execution_count": null,
   "metadata": {},
   "outputs": [],
   "source": [
    "import pickle\n",
    "pickle.dump(out, open( \"tenyear.{}.pkl\".format(seed), \"wb\" ) )"
   ]
  },
  {
   "cell_type": "code",
   "execution_count": null,
   "metadata": {},
   "outputs": [],
   "source": [
    "sortin = numpy.argsort(out['redshift'])\n",
    "f = open('pvlist.{}.dat'.format(seed), 'w')\n",
    "for i in range(len(sortin)):\n",
    "    print(' '.join(str(e) for e in (out['redshift'][sortin[i]],out['mB'][sortin[i]],0,out['l'][sortin[i]],out['b'][sortin[i]],\n",
    "                                    out['mB_expected'][sortin[i]], out['nsne'][sortin[i]])),file=f)\n",
    "f.close()"
   ]
  },
  {
   "cell_type": "code",
   "execution_count": null,
   "metadata": {},
   "outputs": [],
   "source": []
  }
 ],
 "metadata": {
  "kernelspec": {
   "display_name": "desc-python",
   "language": "python",
   "name": "desc-python"
  },
  "language_info": {
   "codemirror_mode": {
    "name": "ipython",
    "version": 3
   },
   "file_extension": ".py",
   "mimetype": "text/x-python",
   "name": "python",
   "nbconvert_exporter": "python",
   "pygments_lexer": "ipython3",
   "version": "3.6.2"
  }
 },
 "nbformat": 4,
 "nbformat_minor": 2
}

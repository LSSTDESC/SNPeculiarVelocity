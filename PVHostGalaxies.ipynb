{
 "cells": [
  {
   "cell_type": "markdown",
   "metadata": {},
   "source": [
    "# SNe in host galaxies\n",
    "Owner: Alex Kim <br>\n",
    "Last Verified to Run: 2018-07-23"
   ]
  },
  {
   "cell_type": "code",
   "execution_count": 1,
   "metadata": {},
   "outputs": [],
   "source": [
    "import numpy\n",
    "import matplotlib.pyplot as plt\n",
    "%matplotlib inline"
   ]
  },
  {
   "cell_type": "code",
   "execution_count": 11,
   "metadata": {},
   "outputs": [],
   "source": [
    "from astropy.coordinates import SkyCoord\n",
    "import GCRCatalogs\n",
    "import buzzard_stellar_mass\n",
    "import itertools\n",
    "from astropy.cosmology import FlatLambdaCDM\n",
    "from astropy.coordinates import SkyCoord\n",
    "from astropy import units as u"
   ]
  },
  {
   "cell_type": "code",
   "execution_count": 3,
   "metadata": {},
   "outputs": [],
   "source": [
    "controlTime = 2e1"
   ]
  },
  {
   "cell_type": "code",
   "execution_count": 21,
   "metadata": {},
   "outputs": [],
   "source": [
    "MB = -19.25\n",
    "sigma_MB = 0.08\n",
    "cosmo = FlatLambdaCDM(70, 0.286)"
   ]
  },
  {
   "cell_type": "code",
   "execution_count": 5,
   "metadata": {},
   "outputs": [],
   "source": [
    "# load coadd catalog (for a single tract)\n",
    "coadd_cat = GCRCatalogs.load_catalog('buzzard_v1.6_test')"
   ]
  },
  {
   "cell_type": "code",
   "execution_count": 6,
   "metadata": {},
   "outputs": [],
   "source": [
    "quantities = [\"redshift\", \"redshift_true\",\"ra\",\"dec\",\"galaxy_id\",\n",
    "              \"truth/COEFFS/0\",\"truth/COEFFS/1\",\"truth/COEFFS/2\",\"truth/COEFFS/3\",\"truth/COEFFS/4\"]\n",
    "filts = [\n",
    "    'redshift < 0.2',\n",
    "    (numpy.isfinite,\"truth/COEFFS/0\"),\n",
    "    (numpy.isfinite,\"truth/COEFFS/1\"),\n",
    "    (numpy.isfinite,\"truth/COEFFS/2\"),\n",
    "    (numpy.isfinite,\"truth/COEFFS/3\"),\n",
    "    (numpy.isfinite,\"truth/COEFFS/4\"),\n",
    "    ]"
   ]
  },
  {
   "cell_type": "code",
   "execution_count": 7,
   "metadata": {},
   "outputs": [],
   "source": [
    "kfile = \"/global/projecta/projectdirs/lsst/groups/CS/Buzzard/metadata/templates/k_nmf_derived.default.fits\"\n",
    "gdq = buzzard_stellar_mass.GetDerivedQuantities(kfile)"
   ]
  },
  {
   "cell_type": "code",
   "execution_count": 39,
   "metadata": {},
   "outputs": [],
   "source": [
    "f = open('pvlist.dat', 'w')"
   ]
  },
  {
   "cell_type": "code",
   "execution_count": 40,
   "metadata": {},
   "outputs": [
    {
     "name": "stderr",
     "output_type": "stream",
     "text": [
      "/global/u1/a/akim/desc/Peculiar Velocity/buzzard_stellar_mass.py:76: RuntimeWarning: invalid value encountered in true_divide\n",
      "  met   = np.dot(coeff, self.sfh_tot * self.sfh_met) / ssfr\n"
     ]
    }
   ],
   "source": [
    "for data in coadd_cat.get_quantities(quantities, filters = filts, return_iterator=True):\n",
    "    sfr_met_smass=gdq.get_derived_quantities(numpy.array([data[\"truth/COEFFS/0\"],data[\"truth/COEFFS/1\"],\n",
    "                                              data[\"truth/COEFFS/2\"],data[\"truth/COEFFS/3\"],\n",
    "                                              data[\"truth/COEFFS/4\"]]).T,data[\"redshift_true\"])\n",
    "    rate = controlTime*(1.23e-03*sfr_met_smass[0]**(.95)+.26e-10*sfr_met_smass[2]**(.72)/(1+data[\"redshift_true\"]))\n",
    "    nsne = numpy.random.RandomState(1234).poisson(rate)\n",
    "    w = nsne > 0\n",
    "    for key, value in data.items():\n",
    "        data[key]=value[w]\n",
    "    data['nsne'] = nsne[w]\n",
    "    data['mB'] = MB + numpy.random.normal(scale=sigma_MB,size=len(data[\"redshift_true\"])) + \\\n",
    "        cosmo.distmod(data[\"redshift_true\"]).value\n",
    "    data['mB_expected'] = MB + cosmo.distmod(data[\"redshift\"]).value\n",
    "    c = SkyCoord(ra=data[\"ra\"]*u.degree, dec=data[\"dec\"]*u.degree, frame='icrs')\n",
    "    data['l'] = c.galactic.spherical.lon.value\n",
    "    data['b'] = c.galactic.spherical.lat.value\n",
    "    for l, b, z, mB, mB_exp, nsn in zip(data['l'],data['b'],data['redshift'],\n",
    "                                        data['mB'],data['mB_expected'], data['nsne']):\n",
    "        print(' '.join(str(e) for e in (l, b, z, mB, mB_exp, nsn)),file=f)\n",
    "                \n"
   ]
  },
  {
   "cell_type": "raw",
   "metadata": {},
   "source": []
  },
  {
   "cell_type": "code",
   "execution_count": 41,
   "metadata": {},
   "outputs": [],
   "source": [
    "f.close()"
   ]
  },
  {
   "cell_type": "code",
   "execution_count": null,
   "metadata": {},
   "outputs": [],
   "source": []
  }
 ],
 "metadata": {
  "kernelspec": {
   "display_name": "desc-python",
   "language": "python",
   "name": "desc-python"
  },
  "language_info": {
   "codemirror_mode": {
    "name": "ipython",
    "version": 3
   },
   "file_extension": ".py",
   "mimetype": "text/x-python",
   "name": "python",
   "nbconvert_exporter": "python",
   "pygments_lexer": "ipython3",
   "version": "3.6.2"
  }
 },
 "nbformat": 4,
 "nbformat_minor": 2
}

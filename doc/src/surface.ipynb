{
 "cells": [
  {
   "cell_type": "code",
   "execution_count": 179,
   "metadata": {},
   "outputs": [],
   "source": [
    "import matplotlib.pyplot as plt\n",
    "import numpy\n",
    "import matplotlib\n",
    "import matplotlib.colors as colors\n",
    "from partials import zintegral_fast, restrate_Ia, sigOM0sqinv\n",
    "from matplotlib import ticker, cm\n",
    "from astropy.cosmology import FlatLambdaCDM\n",
    "import scipy.integrate as integrate\n",
    "from matplotlib.ticker import ScalarFormatter, FormatStrFormatter"
   ]
  },
  {
   "cell_type": "code",
   "execution_count": 106,
   "metadata": {},
   "outputs": [],
   "source": [
    "#Number of SNe out to redshift\n",
    "def N_SN_yr(zmax):\n",
    "    OmegaM0 = 0.28\n",
    "    cosmo = FlatLambdaCDM(H0=100, Om0=OmegaM0)\n",
    "    ans = integrate.quad(lambda x: cosmo.differential_comoving_volume(x).value/(1+x), 0, zmax)\n",
    "    return(ans[0]*restrate_Ia*4*numpy.pi)"
   ]
  },
  {
   "cell_type": "code",
   "execution_count": 107,
   "metadata": {},
   "outputs": [],
   "source": [
    "# Manips\n",
    "import pandas as pd\n",
    "df = pd.DataFrame(index='ZTF Altsched Baseline TAIPAN'.split(),columns = 'emu N zmax date'.split())\n",
    "df.loc['ZTF-II','emu'] = 0.12\n",
    "df.loc['ZTF-II','zmax'] = 0.09\n",
    "df.loc['ZTF-II', 'N'] = 6000\n",
    "df.loc['ZTF-II','date'] = 2023\n",
    "\n",
    "df.loc['ZTF-IIb','emu'] = 0.12\n",
    "df.loc['ZTF-IIb','zmax'] = 0.08\n",
    "df.loc['ZTF-IIb', 'N'] = 3000\n",
    "df.loc['ZTF-IIb','date'] = 2023\n",
    "\n",
    "df.loc['LSST','emu'] = 0.12\n",
    "df.loc['LSST','zmax'] = 0.08\n",
    "df.loc['LSST', 'N'] = 3000\n",
    "df.loc['LSST','date'] = 2031\n",
    "\n",
    "df.loc['ZTF-I','emu'] = 0.12\n",
    "df.loc['ZTF-I','zmax'] = 0.08\n",
    "df.loc['ZTF-I', 'N'] = 800\n",
    "df.loc['ZTF-I','date'] = 2020\n",
    "\n",
    "df.loc['SNGrowth (Traditional)','emu']=0.12\n",
    "df.loc['SNGrowth (Traditional)','zmax']=0.08\n",
    "df.loc['SNGrowth (Traditional)','N'] = 4000\n",
    "df.loc['SNGrowth (Traditional)','date'] = 2023\n",
    "\n",
    "df.loc['SNGrowth (PV optimized)','emu']=0.08\n",
    "df.loc['SNGrowth (PV optimized)','zmax']=0.08\n",
    "df.loc['SNGrowth (PV optimized)','N'] = 4000\n",
    "df.loc['SNGrowth (PV optimized)','date'] = 2023\n",
    "\n",
    "\n",
    "df.loc['Altsched', 'emu'] = 0.12\n",
    "df.loc['Altsched', 'N'] = 125000\n",
    "df.loc['Altsched', 'zmax'] = 0.25\n",
    "df.loc['Altsched','date'] = 2032\n",
    "df.loc['Baseline','N'] = 20000\n",
    "df.loc['Baseline','emu'] = 0.12\n",
    "df.loc['Baseline','zmax'] = 0.2\n",
    "df.loc['Baseline','date'] = 2032\n",
    "df.loc['TAIPAN','emu'] = 0.45\n",
    "df.loc['TAIPAN','zmax'] = 0.1\n",
    "df.loc['TAIPAN', 'N'] = 50000\n",
    "df.loc['TAIPAN','date'] = 2022"
   ]
  },
  {
   "cell_type": "code",
   "execution_count": 108,
   "metadata": {},
   "outputs": [],
   "source": [
    "def show_marker(name, **kwargs):\n",
    "   x = numpy.log10(df.loc[name,'N'])\n",
    "   y = df.loc[name,'emu']\n",
    "   p = ax.plot(x,y, **{**dict(ls=\"None\", marker=\"o\"),**kwargs})\n",
    "   return x,y"
   ]
  },
  {
   "cell_type": "code",
   "execution_count": 349,
   "metadata": {},
   "outputs": [
    {
     "name": "stdout",
     "output_type": "stream",
     "text": [
      "3.668113108593945 4.8681131085939455\n"
     ]
    }
   ],
   "source": [
    "#ZTF2\n",
    "skyfrac=0.5\n",
    "zmax=0.09\n",
    "\n",
    "#durations = numpy.arange(1,12.1,5)\n",
    "logdurations = numpy.arange(0.4,1.61,1.2/10)\n",
    "durations = 10**(logdurations)\n",
    "sigm_Ias = numpy.arange(0.05,0.501,0.45/10)\n",
    "X, Y = numpy.meshgrid(numpy.log10(durations*skyarea/4/numpy.pi*N_SN_yr(zmax)), sigm_Ias)\n",
    "print(X.min(), X.max())"
   ]
  },
  {
   "cell_type": "code",
   "execution_count": null,
   "metadata": {},
   "outputs": [],
   "source": [
    "var =[]\n",
    "for sigm_Ia in sigm_Ias:\n",
    "    v_=[]\n",
    "\n",
    "    for duration in durations:\n",
    "        f00,f11,f10, f02,f12,f22 = zintegral_fast(zmax,None,duration,sigm_Ia,restrate_Ia)\n",
    "        v_.append(numpy.linalg.inv(numpy.array([[f00,f10,f02],[f10,f11,f12],[f02,f12,f22+sigOM0sqinv]]))[0,0])\n",
    "\n",
    "    var.append(numpy.array(v_)*2*3.14/skyfrac)"
   ]
  },
  {
   "cell_type": "code",
   "execution_count": 338,
   "metadata": {},
   "outputs": [],
   "source": [
    "#LSST North and South\n",
    "skyfrac_lsst = 0.75\n",
    "zmax_lsst=0.2\n",
    "duration_lsst=10\n",
    "\n",
    "sigm_Ia_lsst=0.08\n",
    "f00,f11,f10, f02,f12,f22 = zintegral_fast(zmax,None,duration_lsst,sigm_Ia_lsst,restrate_Ia)\n",
    "LSST_08 = numpy.linalg.inv(numpy.array([[f00,f10,f02],[f10,f11,f12],[f02,f12,f22+sigOM0sqinv]]))[0,0]\n",
    "\n",
    "sigm_Ia_lsst=0.12\n",
    "f00,f11,f10, f02,f12,f22 = zintegral_fast(zmax,None,duration_lsst,sigm_Ia_lsst,restrate_Ia)\n",
    "LSST_12 = numpy.linalg.inv(numpy.array([[f00,f10,f02],[f10,f11,f12],[f02,f12,f22+sigOM0sqinv]]))[0,0]\n",
    "\n",
    "LSST_08 = LSST_08*2*3.14/skyfrac_lsst\n",
    "LSST_12 = LSST_12*2*3.14/skyfrac_lsst"
   ]
  },
  {
   "cell_type": "code",
   "execution_count": null,
   "metadata": {},
   "outputs": [],
   "source": [
    "#plots\n",
    "plt.rcParams[\"figure.figsize\"] = (8,6)\n",
    "Z = numpy.sqrt(var)\n",
    "levels = numpy.arange(0.0,.1001,0.01)\n",
    "fig, ax = plt.subplots()\n",
    "cs = ax.imshow(Z,norm=colors.LogNorm(),origin='lower',interpolation='bicubic',aspect='auto',\n",
    "               extent=[X.min(),X.max(), Y.min(), Y.max()],vmin=0.025,vmax=0.1)#, cmap=cm.PuBu_r)\n",
    "#cs = ax.imshow(Z,origin='lower',interpolation='bicubic',aspect='auto',\n",
    "#               extent=[X.min(),X.max(), Y.min(), Y.max()])#, cmap=cm.PuBu_r)\n",
    "cbar = fig.colorbar(cs)\n",
    "cbar.ax.set_ylabel(r'$\\sigma_\\gamma$')\n",
    "cbar.ax.yaxis.set_major_formatter(ScalarFormatter())\n",
    "#fmt =  ScalarFormatter()\n",
    "#fmt.set_locs(numpy.arange(0.02,0.1,0.02))\n",
    "cbar.ax.yaxis.set_minor_formatter(ScalarFormatter())\n",
    "#cbar.ax.yaxis.get_major_formatter().set_scientific(False)\n",
    "#cbar.ax.yaxis.get_major_formatter().set_useOffset(False)\n",
    "\n",
    "cset2 = ax.contour( Z, levels, colors='k',extent=[X.min(), X.max(), Y.min(), Y.max()])\n",
    "ax.clabel(cset2, inline=True, fontsize=8)\n",
    "\n",
    "ax.set_xlabel(r'$\\log{N}$')\n",
    "ax.set_ylabel(r'$\\sigma_M$ (mag)')\n",
    "\n",
    "# ZTF-II\n",
    "name = \"ZTF-II\"\n",
    "color = \"w\"\n",
    "# x,y = show_marker(name, color=color, marker=\"s\")\n",
    "logN = numpy.log10(3*skyarea/4/numpy.pi*N_SN_yr(zmax)) # 3-years \n",
    "\n",
    "ax.plot([logN,logN],[0.08,0.12],color=color)\n",
    "p = ax.plot(logN,0.08, **{**dict(ls=\"None\", marker=\"s\",color=color)})\n",
    "p = ax.plot(logN,0.12, **{**dict(ls=\"None\", marker=\"s\",color=color)})\n",
    "ax.text(logN+.05,0.12-.015,name, fontdict=dict(color = color ,weight = 'bold'), va=\"bottom\", ha=\"left\")\n",
    "ax.text(logN+.05,0.08-.015,name+\" optimal\", fontdict=dict(color = color ,weight = 'bold'), va=\"bottom\", ha=\"left\")\n",
    "#ax.text(logN+.1,0.1,df.loc[name,'date'], fontdict=dict(color = color ,weight = 'bold'), \n",
    "#           va=\"top\", ha=\"left\", style='italic', fontsize=\"small\")\n",
    "\n",
    "name = \"TAIPAN\"\n",
    "color = \"w\"\n",
    "x,y = show_marker(name, color=color)\n",
    "ax.text(x-.2,y,name, fontdict=dict(color = color ,weight = 'bold'), va=\"bottom\", ha=\"left\")\n",
    "ax.text(x-.2,y,df.loc[name,'date'], fontdict=dict(color = color ,weight = 'bold'), \n",
    "           va=\"top\", ha=\"left\", style='italic', fontsize=\"small\")\n",
    "\n",
    "cset2 = ax.contour( Z, [numpy.sqrt(LSST_08*1.5),numpy.sqrt(LSST_12*1.5)], colors='red',extent=[X.min(), X.max(), Y.min(), Y.max()])\n",
    "ax.text(4.5,0.12, 'LSST optimal', fontdict=dict(color = color ,weight = 'bold'), va=\"bottom\", ha=\"left\")\n",
    "ax.text(4.4+.3,0.25, 'LSST ', fontdict=dict(color = color ,weight = 'bold'), va=\"bottom\", ha=\"left\")\n",
    "\n",
    "\n",
    "#name = 'LSST + North'\n",
    "#print (numpy.sqrt(LSST_08),numpy.sqrt(LSST_12))\n",
    "#cset2 = ax.contour( Z, [numpy.sqrt(LSST_08),numpy.sqrt(LSST_12)], colors='red',extent=[X.min(), X.max(), Y.min(), Y.max()])\n",
    "#ax.text(4.5,0.15, name, fontdict=dict(color = color ,weight = 'bold'), va=\"bottom\", ha=\"left\")\n",
    "plt.tight_layout()\n",
    "plt.savefig(\"surface1.pdf\")"
   ]
  },
  {
   "cell_type": "code",
   "execution_count": 295,
   "metadata": {},
   "outputs": [
    {
     "name": "stdout",
     "output_type": "stream",
     "text": [
      "0.026398498489603454 0.029876553858808507\n"
     ]
    }
   ],
   "source": [
    "\n"
   ]
  },
  {
   "cell_type": "code",
   "execution_count": null,
   "metadata": {},
   "outputs": [],
   "source": []
  }
 ],
 "metadata": {
  "anaconda-cloud": {},
  "kernelspec": {
   "display_name": "Python 3",
   "language": "python",
   "name": "python3"
  },
  "language_info": {
   "codemirror_mode": {
    "name": "ipython",
    "version": 3
   },
   "file_extension": ".py",
   "mimetype": "text/x-python",
   "name": "python",
   "nbconvert_exporter": "python",
   "pygments_lexer": "ipython3",
   "version": "3.6.8"
  }
 },
 "nbformat": 4,
 "nbformat_minor": 1
}
